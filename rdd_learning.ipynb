{
 "cells": [
  {
   "cell_type": "code",
   "execution_count": 17,
   "metadata": {},
   "outputs": [
    {
     "name": "stdout",
     "output_type": "stream",
     "text": [
      "[1, 2, 3, 4, 5]\n",
      "0\n"
     ]
    }
   ],
   "source": [
    "from pyspark.sql import SparkSession\n",
    "spark = SparkSession.builder.appName('Learning_rdd').getOrCreate()\n",
    "\n",
    "sc = spark.sparkContext\n",
    "\n",
    "data = [1,2,3,4,5]\n",
    "rdd = sc.parallelize(data)\n",
    "print(rdd.collect())\n",
    "\n",
    "\n",
    "######## How not to do ###########\n",
    "counter = 0\n",
    "def increment_counter(x):\n",
    "    global counter\n",
    "    counter +=x\n",
    "\n",
    "#accum = sc.accumulator(0)\n",
    "rdd.foreach(increment_counter)\n",
    "print(counter)"
   ]
  },
  {
   "cell_type": "code",
   "execution_count": 15,
   "metadata": {},
   "outputs": [
    {
     "name": "stdout",
     "output_type": "stream",
     "text": [
      "15\n"
     ]
    }
   ],
   "source": [
    "######## Right way to do ###########\n",
    "data = [1,2,3,4,5]\n",
    "rdd = sc.parallelize(data)\n",
    "accum = sc.accumulator(0)\n",
    "def increment_counter1(x):\n",
    "    accum.add(x)\n",
    "\n",
    "rdd.foreach(increment_counter1)\n",
    "print(accum.value)"
   ]
  },
  {
   "cell_type": "code",
   "execution_count": 31,
   "metadata": {},
   "outputs": [
    {
     "name": "stdout",
     "output_type": "stream",
     "text": [
      "[('# Apache Spark', 1), ('', 1), ('Spark is a unified analytics engine for large-scale data processing. It provides', 1), ('high-level APIs in Scala, Java, Python, and R, and an optimized engine that', 1), ('supports general computation graphs for data analysis. It also supports a', 1), ('rich set of higher-level tools including Spark SQL for SQL and DataFrames,', 1), ('pandas API on Spark for pandas workloads, MLlib for machine learning, GraphX for graph processing,', 1), ('and Structured Streaming for stream processing.', 1), ('', 1), ('<https://spark.apache.org/>', 1), ('', 1), ('[![GitHub Actions Build](https://github.com/apache/spark/actions/workflows/build_main.yml/badge.svg)](https://github.com/apache/spark/actions/workflows/build_main.yml)', 1), ('[![AppVeyor Build](https://img.shields.io/appveyor/ci/ApacheSoftwareFoundation/spark/master.svg?style=plastic&logo=appveyor)](https://ci.appveyor.com/project/ApacheSoftwareFoundation/spark)', 1), ('[![PySpark Coverage](https://codecov.io/gh/apache/spark/branch/master/graph/badge.svg)](https://codecov.io/gh/apache/spark)', 1), ('[![PyPI Downloads](https://static.pepy.tech/personalized-badge/pyspark?period=month&units=international_system&left_color=black&right_color=orange&left_text=PyPI%20downloads)](https://pypi.org/project/pyspark/)', 1), ('', 1), ('', 1), ('## Online Documentation', 1), ('', 1), ('You can find the latest Spark documentation, including a programming', 1), ('guide, on the [project web page](https://spark.apache.org/documentation.html).', 1), ('This README file only contains basic setup instructions.', 1), ('', 1), ('## Building Spark', 1), ('', 1), ('Spark is built using [Apache Maven](https://maven.apache.org/).', 1), ('To build Spark and its example programs, run:', 1), ('', 1), ('```bash', 1), ('./build/mvn -DskipTests clean package', 1), ('```', 1), ('', 1), ('(You do not need to do this if you downloaded a pre-built package.)', 1), ('', 1), ('More detailed documentation is available from the project site, at', 1), ('[\"Building Spark\"](https://spark.apache.org/docs/latest/building-spark.html).', 1), ('', 1), ('For general development tips, including info on developing Spark using an IDE, see [\"Useful Developer Tools\"](https://spark.apache.org/developer-tools.html).', 1), ('', 1), ('## Interactive Scala Shell', 1), ('', 1), ('The easiest way to start using Spark is through the Scala shell:', 1), ('', 1), ('```bash', 1), ('./bin/spark-shell', 1), ('```', 1), ('', 1), ('Try the following command, which should return 1,000,000,000:', 1), ('', 1), ('```scala', 1), ('scala> spark.range(1000 * 1000 * 1000).count()', 1), ('```', 1), ('', 1), ('## Interactive Python Shell', 1), ('', 1), ('Alternatively, if you prefer Python, you can use the Python shell:', 1), ('', 1), ('```bash', 1), ('./bin/pyspark', 1), ('```', 1), ('', 1), ('And run the following command, which should also return 1,000,000,000:', 1), ('', 1), ('```python', 1), ('>>> spark.range(1000 * 1000 * 1000).count()', 1), ('```', 1), ('', 1), ('## Example Programs', 1), ('', 1), ('Spark also comes with several sample programs in the `examples` directory.', 1), ('To run one of them, use `./bin/run-example <class> [params]`. For example:', 1), ('', 1), ('```bash', 1), ('./bin/run-example SparkPi', 1), ('```', 1), ('', 1), ('will run the Pi example locally.', 1), ('', 1), ('You can set the MASTER environment variable when running examples to submit', 1), ('examples to a cluster. This can be a mesos:// or spark:// URL,', 1), ('\"yarn\" to run on YARN, and \"local\" to run', 1), ('locally with one thread, or \"local[N]\" to run locally with N threads. You', 1), ('can also use an abbreviated class name if the class is in the `examples`', 1), ('package. For instance:', 1), ('', 1), ('```bash', 1), ('MASTER=spark://host:7077 ./bin/run-example SparkPi', 1), ('```', 1), ('', 1), ('Many of the example programs print usage help if no params are given.', 1), ('', 1), ('## Running Tests', 1), ('', 1), ('Testing first requires [building Spark](#building-spark). Once Spark is built, tests', 1), ('can be run using:', 1), ('', 1), ('```bash', 1), ('./dev/run-tests', 1), ('```', 1), ('', 1), ('Please see the guidance on how to', 1), ('[run tests for a module, or individual tests](https://spark.apache.org/developer-tools.html#individual-tests).', 1), ('', 1), ('There is also a Kubernetes integration test, see resource-managers/kubernetes/integration-tests/README.md', 1), ('', 1), ('## A Note About Hadoop Versions', 1), ('', 1), ('Spark uses the Hadoop core library to talk to HDFS and other Hadoop-supported', 1), ('storage systems. Because the protocols have changed in different versions of', 1), ('Hadoop, you must build Spark against the same version that your cluster runs.', 1), ('', 1), ('Please refer to the build documentation at', 1), ('[\"Specifying the Hadoop Version and Enabling YARN\"](https://spark.apache.org/docs/latest/building-spark.html#specifying-the-hadoop-version-and-enabling-yarn)', 1), ('for detailed guidance on building for a particular distribution of Hadoop, including', 1), ('building for particular Hive and Hive Thriftserver distributions.', 1), ('', 1), ('## Configuration', 1), ('', 1), ('Please refer to the [Configuration Guide](https://spark.apache.org/docs/latest/configuration.html)', 1), ('in the online documentation for an overview on how to configure Spark.', 1), ('', 1), ('## Contributing', 1), ('', 1), ('Please review the [Contribution to Spark guide](https://spark.apache.org/contributing.html)', 1), ('for information on how to get started contributing to the project.', 1)]\n"
     ]
    },
    {
     "data": {
      "text/plain": [
       "[('', 41),\n",
       " ('```', 8),\n",
       " ('```bash', 6),\n",
       " ('high-level APIs in Scala, Java, Python, and R, and an optimized engine that',\n",
       "  1),\n",
       " ('supports general computation graphs for data analysis. It also supports a',\n",
       "  1),\n",
       " ('rich set of higher-level tools including Spark SQL for SQL and DataFrames,',\n",
       "  1),\n",
       " ('pandas API on Spark for pandas workloads, MLlib for machine learning, GraphX for graph processing,',\n",
       "  1),\n",
       " ('and Structured Streaming for stream processing.', 1),\n",
       " ('<https://spark.apache.org/>', 1),\n",
       " ('[![GitHub Actions Build](https://github.com/apache/spark/actions/workflows/build_main.yml/badge.svg)](https://github.com/apache/spark/actions/workflows/build_main.yml)',\n",
       "  1)]"
      ]
     },
     "execution_count": 31,
     "metadata": {},
     "output_type": "execute_result"
    },
    {
     "name": "stderr",
     "output_type": "stream",
     "text": [
      "----------------------------------------\n",
      "Exception occurred during processing of request from ('127.0.0.1', 60816)\n",
      "Traceback (most recent call last):\n",
      "  File \"C:\\Program Files\\WindowsApps\\PythonSoftwareFoundation.Python.3.11_3.11.2544.0_x64__qbz5n2kfra8p0\\Lib\\socketserver.py\", line 317, in _handle_request_noblock\n",
      "    self.process_request(request, client_address)\n",
      "  File \"C:\\Program Files\\WindowsApps\\PythonSoftwareFoundation.Python.3.11_3.11.2544.0_x64__qbz5n2kfra8p0\\Lib\\socketserver.py\", line 348, in process_request\n",
      "    self.finish_request(request, client_address)\n",
      "  File \"C:\\Program Files\\WindowsApps\\PythonSoftwareFoundation.Python.3.11_3.11.2544.0_x64__qbz5n2kfra8p0\\Lib\\socketserver.py\", line 361, in finish_request\n",
      "    self.RequestHandlerClass(request, client_address, self)\n",
      "  File \"C:\\Program Files\\WindowsApps\\PythonSoftwareFoundation.Python.3.11_3.11.2544.0_x64__qbz5n2kfra8p0\\Lib\\socketserver.py\", line 755, in __init__\n",
      "    self.handle()\n",
      "  File \"C:\\Users\\vrjav\\AppData\\Local\\Packages\\PythonSoftwareFoundation.Python.3.11_qbz5n2kfra8p0\\LocalCache\\local-packages\\Python311\\site-packages\\pyspark\\accumulators.py\", line 295, in handle\n",
      "    poll(accum_updates)\n",
      "  File \"C:\\Users\\vrjav\\AppData\\Local\\Packages\\PythonSoftwareFoundation.Python.3.11_qbz5n2kfra8p0\\LocalCache\\local-packages\\Python311\\site-packages\\pyspark\\accumulators.py\", line 267, in poll\n",
      "    if self.rfile in r and func():\n",
      "                           ^^^^^^\n",
      "  File \"C:\\Users\\vrjav\\AppData\\Local\\Packages\\PythonSoftwareFoundation.Python.3.11_qbz5n2kfra8p0\\LocalCache\\local-packages\\Python311\\site-packages\\pyspark\\accumulators.py\", line 271, in accum_updates\n",
      "    num_updates = read_int(self.rfile)\n",
      "                  ^^^^^^^^^^^^^^^^^^^^\n",
      "  File \"C:\\Users\\vrjav\\AppData\\Local\\Packages\\PythonSoftwareFoundation.Python.3.11_qbz5n2kfra8p0\\LocalCache\\local-packages\\Python311\\site-packages\\pyspark\\serializers.py\", line 594, in read_int\n",
      "    length = stream.read(4)\n",
      "             ^^^^^^^^^^^^^^\n",
      "  File \"C:\\Program Files\\WindowsApps\\PythonSoftwareFoundation.Python.3.11_3.11.2544.0_x64__qbz5n2kfra8p0\\Lib\\socket.py\", line 706, in readinto\n",
      "    return self._sock.recv_into(b)\n",
      "           ^^^^^^^^^^^^^^^^^^^^^^^\n",
      "ConnectionResetError: [WinError 10054] An existing connection was forcibly closed by the remote host\n",
      "----------------------------------------\n"
     ]
    }
   ],
   "source": [
    "logfile = \"C:\\spark\\spark-3.5.1-bin-hadoop3\\README.md\"\n",
    "sc = spark.sparkContext\n",
    "lines = sc.textFile(logfile)\n",
    "lines = lines.map(lambda s:(s,1))\n",
    "print(lines.collect())\n",
    "c = lines.reduceByKey(lambda a, b: a+b)\n",
    "cc = c.sortBy(lambda x:-x[1])\n",
    "cc.take(10)"
   ]
  },
  {
   "cell_type": "code",
   "execution_count": null,
   "metadata": {},
   "outputs": [],
   "source": [
    "s = spar"
   ]
  }
 ],
 "metadata": {
  "kernelspec": {
   "display_name": "Python 3",
   "language": "python",
   "name": "python3"
  },
  "language_info": {
   "codemirror_mode": {
    "name": "ipython",
    "version": 3
   },
   "file_extension": ".py",
   "mimetype": "text/x-python",
   "name": "python",
   "nbconvert_exporter": "python",
   "pygments_lexer": "ipython3",
   "version": "3.11.-1"
  }
 },
 "nbformat": 4,
 "nbformat_minor": 2
}
