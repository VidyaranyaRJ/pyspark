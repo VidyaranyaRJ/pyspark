{
 "cells": [
  {
   "cell_type": "code",
   "execution_count": 17,
   "metadata": {},
   "outputs": [
    {
     "name": "stdout",
     "output_type": "stream",
     "text": [
      "[1, 2, 3, 4, 5]\n",
      "0\n"
     ]
    }
   ],
   "source": [
    "from pyspark.sql import SparkSession\n",
    "spark = SparkSession.builder.appName('Learning_rdd').getOrCreate()\n",
    "\n",
    "sc = spark.sparkContext\n",
    "\n",
    "data = [1,2,3,4,5]\n",
    "rdd = sc.parallelize(data)\n",
    "print(rdd.collect())\n",
    "\n",
    "\n",
    "######## How not to do ###########\n",
    "counter = 0\n",
    "def increment_counter(x):\n",
    "    global counter\n",
    "    counter +=x\n",
    "\n",
    "#accum = sc.accumulator(0)\n",
    "rdd.foreach(increment_counter)\n",
    "print(counter)"
   ]
  },
  {
   "cell_type": "code",
   "execution_count": 15,
   "metadata": {},
   "outputs": [
    {
     "name": "stdout",
     "output_type": "stream",
     "text": [
      "15\n"
     ]
    }
   ],
   "source": [
    "######## Right way to do ###########\n",
    "data = [1,2,3,4,5]\n",
    "rdd = sc.parallelize(data)\n",
    "accum = sc.accumulator(0)\n",
    "def increment_counter1(x):\n",
    "    accum.add(x)\n",
    "\n",
    "rdd.foreach(increment_counter1)\n",
    "print(accum.value)"
   ]
  },
  {
   "cell_type": "code",
   "execution_count": null,
   "metadata": {},
   "outputs": [],
   "source": []
  }
 ],
 "metadata": {
  "kernelspec": {
   "display_name": "Python 3",
   "language": "python",
   "name": "python3"
  },
  "language_info": {
   "codemirror_mode": {
    "name": "ipython",
    "version": 3
   },
   "file_extension": ".py",
   "mimetype": "text/x-python",
   "name": "python",
   "nbconvert_exporter": "python",
   "pygments_lexer": "ipython3",
   "version": "3.11.9"
  }
 },
 "nbformat": 4,
 "nbformat_minor": 2
}
