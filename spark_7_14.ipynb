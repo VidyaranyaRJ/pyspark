{
 "cells": [
  {
   "cell_type": "code",
   "execution_count": 1,
   "metadata": {},
   "outputs": [],
   "source": [
    "from pyspark.sql import SparkSession, Row\n",
    "from pyspark.sql.types import StructType, StructField, LongType, DoubleType\n",
    "from pyspark.sql.functions import mean, stddev, col\n",
    "import pandas as pd\n",
    "\n",
    "# Create a SparkSession\n",
    "spark = SparkSession.builder \\\n",
    "    .appName(\"NormalizationExample\") \\\n",
    "    .config(\"spark.hadoop.fs.file.impl\", \"org.apache.hadoop.fs.LocalFileSystem\") \\\n",
    "    .config(\"spark.sql.execution.arrow.enabled\", \"true\") \\\n",
    "    .getOrCreate()\n",
    "\n",
    "df1 = spark.createDataFrame([(202407130921, 1, 1.0),\n",
    "                             (202407130921, 2, 2.0),\n",
    "                             (202407130922, 1, 3.0),\n",
    "                             (202407130922, 2, 4.0)],('time', 'id', 'v1'))\n",
    "df2 = spark.createDataFrame([(202407130921, 1, 'x'),\n",
    "                             (202407130921, 2, 'y'),(202407130922, 1, 'x'),(202407130922, 2, 'y')],('time', 'id', 'v2'))\n",
    "def merge_ordered(l, r):\n",
    "    return pd.merge_ordered(l, r)\n",
    "\n",
    "new_df = df1.groupby('id').cogroup(df2.groupby('id')).applyInPandas(merge_ordered, schema='time long, id int, v1 double, v2 string')\n"
   ]
  },
  {
   "cell_type": "code",
   "execution_count": 2,
   "metadata": {},
   "outputs": [
    {
     "name": "stdout",
     "output_type": "stream",
     "text": [
      "+------------+---+---+---+\n",
      "|        time| id| v1| v2|\n",
      "+------------+---+---+---+\n",
      "|202407130921|  1|1.0|  x|\n",
      "|202407130922|  1|3.0|  x|\n",
      "|202407130921|  2|2.0|  y|\n",
      "|202407130922|  2|4.0|  y|\n",
      "+------------+---+---+---+\n",
      "\n"
     ]
    }
   ],
   "source": [
    "new_df.write.csv('foo.csv', header=True, mode='overwrite')\n",
    "spark.read.csv('foo.csv', header=True).show()"
   ]
  },
  {
   "cell_type": "code",
   "execution_count": 3,
   "metadata": {},
   "outputs": [
    {
     "name": "stdout",
     "output_type": "stream",
     "text": [
      "+--------+\n",
      "|count(1)|\n",
      "+--------+\n",
      "|       4|\n",
      "+--------+\n",
      "\n"
     ]
    }
   ],
   "source": [
    "new_df.createOrReplaceTempView('TableA')\n",
    "spark.sql(\"select count(*) from TableA\").show()"
   ]
  },
  {
   "cell_type": "code",
   "execution_count": 8,
   "metadata": {},
   "outputs": [
    {
     "data": {
      "text/plain": [
       "<function __main__.add_one(series: pandas.core.series.Series) -> pandas.core.series.Series>"
      ]
     },
     "execution_count": 8,
     "metadata": {},
     "output_type": "execute_result"
    }
   ],
   "source": [
    "from pyspark.sql.functions import pandas_udf\n",
    "import pandas as pd\n",
    "#@pandas_udf(\"integer\")\n",
    "\n",
    "def add_one(series:pd.Series)->pd.Series:\n",
    "    return series+1\n",
    "\n",
    "spark.udf.register(\"add_Two\", add_one)\n",
    "# spark.sql(\"select add_Two(v1) from TableA\").show()"
   ]
  },
  {
   "cell_type": "code",
   "execution_count": 9,
   "metadata": {},
   "outputs": [
    {
     "name": "stdout",
     "output_type": "stream",
     "text": [
      "+--------------+\n",
      "|(count(1) > 0)|\n",
      "+--------------+\n",
      "|          true|\n",
      "+--------------+\n",
      "\n"
     ]
    }
   ],
   "source": [
    "from pyspark.sql.functions import expr\n",
    "\n",
    "new_df.select(expr('count(*)')>0).show()"
   ]
  },
  {
   "cell_type": "code",
   "execution_count": 10,
   "metadata": {},
   "outputs": [
    {
     "name": "stdout",
     "output_type": "stream",
     "text": [
      "+-----------+\n",
      "|add_Two(v1)|\n",
      "+-----------+\n",
      "|        2.0|\n",
      "|        4.0|\n",
      "|        3.0|\n",
      "|        5.0|\n",
      "+-----------+\n",
      "\n"
     ]
    }
   ],
   "source": [
    "new_df.selectExpr('add_Two(v1)').show()"
   ]
  },
  {
   "cell_type": "code",
   "execution_count": 12,
   "metadata": {},
   "outputs": [
    {
     "name": "stdout",
     "output_type": "stream",
     "text": [
      "+-----+----+\n",
      "|seqno|Name|\n",
      "+-----+----+\n",
      "|    1|  VJ|\n",
      "|    2| bnm|\n",
      "|    3| mnb|\n",
      "+-----+----+\n",
      "\n"
     ]
    }
   ],
   "source": [
    "def to_upper_case(str):\n",
    "    rel=\"\"\n",
    "    arr = str.split(\" \")\n",
    "    for x in arr:\n",
    "        rel += x[0:1].upper()+x[1:]+\" \"\n",
    "    return rel\n",
    "from pyspark.sql import SparkSession\n",
    "spark = SparkSession.builder.getOrCreate()\n",
    "columns = ['seqno', 'Name']\n",
    "data = [(1, \"VJ\"), (2, \"bnm\"), (3, \"mnb\")]\n",
    "df = spark.createDataFrame(data, columns)\n",
    "df.show()"
   ]
  },
  {
   "cell_type": "code",
   "execution_count": 14,
   "metadata": {},
   "outputs": [
    {
     "name": "stdout",
     "output_type": "stream",
     "text": [
      "+-------------------+\n",
      "|to_upper_case(Name)|\n",
      "+-------------------+\n",
      "|                VJ |\n",
      "|               Bnm |\n",
      "|               Mnb |\n",
      "+-------------------+\n",
      "\n"
     ]
    }
   ],
   "source": [
    "spark.udf.register(\"to_upper_case\", to_upper_case)\n",
    "df.selectExpr('to_upper_case(Name)').show()"
   ]
  },
  {
   "cell_type": "code",
   "execution_count": null,
   "metadata": {},
   "outputs": [],
   "source": []
  }
 ],
 "metadata": {
  "kernelspec": {
   "display_name": "Python 3",
   "language": "python",
   "name": "python3"
  },
  "language_info": {
   "codemirror_mode": {
    "name": "ipython",
    "version": 3
   },
   "file_extension": ".py",
   "mimetype": "text/x-python",
   "name": "python",
   "nbconvert_exporter": "python",
   "pygments_lexer": "ipython3",
   "version": "3.11.9"
  }
 },
 "nbformat": 4,
 "nbformat_minor": 2
}
