{
 "cells": [
  {
   "cell_type": "code",
   "execution_count": 42,
   "metadata": {},
   "outputs": [],
   "source": [
    "# from pyspark.sql import SparkSession\n",
    "# sc = SparkSession.builder.getOrCreate()"
   ]
  },
  {
   "cell_type": "code",
   "execution_count": 43,
   "metadata": {},
   "outputs": [],
   "source": [
    "# import pandas as pd\n",
    "# df = pd.DataFrame({'a':[1,2,3],'b':[3,4,5]})\n",
    "# sdf = sc.createDataFrame(df)\n",
    "# sdf.show()"
   ]
  },
  {
   "cell_type": "code",
   "execution_count": 44,
   "metadata": {},
   "outputs": [],
   "source": [
    "sc.stop()"
   ]
  },
  {
   "cell_type": "code",
   "execution_count": 45,
   "metadata": {},
   "outputs": [],
   "source": [
    "from pyspark import SparkConf, SparkContext\n",
    "conf = SparkConf().setAppName('build').setMaster('local')\n",
    "sc = SparkContext(conf=conf)"
   ]
  },
  {
   "cell_type": "code",
   "execution_count": 46,
   "metadata": {},
   "outputs": [],
   "source": [
    "# bc = sc.broadcast([1,2,3])\n",
    "# bc.value"
   ]
  },
  {
   "cell_type": "code",
   "execution_count": 51,
   "metadata": {},
   "outputs": [],
   "source": [
    "path = \"C:\\spark\\spark-3.5.1-bin-hadoop3\\README.md\"\n",
    "\n",
    "#count = lambda(s:(s,1))\n",
    "line = sc.textFile(path)\n",
    "pair = line.map(lambda s:(s,1))\n",
    "cc = pair.reduceByKey(lambda a, b: a+b)"
   ]
  },
  {
   "cell_type": "code",
   "execution_count": 62,
   "metadata": {},
   "outputs": [
    {
     "data": {
      "text/plain": [
       "[('', 41),\n",
       " ('```', 8),\n",
       " ('```bash', 6),\n",
       " ('# Apache Spark', 1),\n",
       " ('Spark is a unified analytics engine for large-scale data processing. It provides',\n",
       "  1),\n",
       " ('high-level APIs in Scala, Java, Python, and R, and an optimized engine that',\n",
       "  1),\n",
       " ('supports general computation graphs for data analysis. It also supports a',\n",
       "  1),\n",
       " ('rich set of higher-level tools including Spark SQL for SQL and DataFrames,',\n",
       "  1),\n",
       " ('pandas API on Spark for pandas workloads, MLlib for machine learning, GraphX for graph processing,',\n",
       "  1),\n",
       " ('and Structured Streaming for stream processing.', 1),\n",
       " ('<https://spark.apache.org/>', 1),\n",
       " ('[![GitHub Actions Build](https://github.com/apache/spark/actions/workflows/build_main.yml/badge.svg)](https://github.com/apache/spark/actions/workflows/build_main.yml)',\n",
       "  1),\n",
       " ('[![AppVeyor Build](https://img.shields.io/appveyor/ci/ApacheSoftwareFoundation/spark/master.svg?style=plastic&logo=appveyor)](https://ci.appveyor.com/project/ApacheSoftwareFoundation/spark)',\n",
       "  1),\n",
       " ('[![PySpark Coverage](https://codecov.io/gh/apache/spark/branch/master/graph/badge.svg)](https://codecov.io/gh/apache/spark)',\n",
       "  1),\n",
       " ('[![PyPI Downloads](https://static.pepy.tech/personalized-badge/pyspark?period=month&units=international_system&left_color=black&right_color=orange&left_text=PyPI%20downloads)](https://pypi.org/project/pyspark/)',\n",
       "  1),\n",
       " ('## Online Documentation', 1),\n",
       " ('You can find the latest Spark documentation, including a programming', 1),\n",
       " ('guide, on the [project web page](https://spark.apache.org/documentation.html).',\n",
       "  1),\n",
       " ('This README file only contains basic setup instructions.', 1),\n",
       " ('## Building Spark', 1),\n",
       " ('Spark is built using [Apache Maven](https://maven.apache.org/).', 1),\n",
       " ('To build Spark and its example programs, run:', 1),\n",
       " ('./build/mvn -DskipTests clean package', 1),\n",
       " ('(You do not need to do this if you downloaded a pre-built package.)', 1),\n",
       " ('More detailed documentation is available from the project site, at', 1),\n",
       " ('[\"Building Spark\"](https://spark.apache.org/docs/latest/building-spark.html).',\n",
       "  1),\n",
       " ('For general development tips, including info on developing Spark using an IDE, see [\"Useful Developer Tools\"](https://spark.apache.org/developer-tools.html).',\n",
       "  1),\n",
       " ('## Interactive Scala Shell', 1),\n",
       " ('The easiest way to start using Spark is through the Scala shell:', 1),\n",
       " ('./bin/spark-shell', 1),\n",
       " ('Try the following command, which should return 1,000,000,000:', 1),\n",
       " ('```scala', 1),\n",
       " ('scala> spark.range(1000 * 1000 * 1000).count()', 1),\n",
       " ('## Interactive Python Shell', 1),\n",
       " ('Alternatively, if you prefer Python, you can use the Python shell:', 1),\n",
       " ('./bin/pyspark', 1),\n",
       " ('And run the following command, which should also return 1,000,000,000:', 1),\n",
       " ('```python', 1),\n",
       " ('>>> spark.range(1000 * 1000 * 1000).count()', 1),\n",
       " ('## Example Programs', 1),\n",
       " ('Spark also comes with several sample programs in the `examples` directory.',\n",
       "  1),\n",
       " ('To run one of them, use `./bin/run-example <class> [params]`. For example:',\n",
       "  1),\n",
       " ('./bin/run-example SparkPi', 1),\n",
       " ('will run the Pi example locally.', 1),\n",
       " ('You can set the MASTER environment variable when running examples to submit',\n",
       "  1),\n",
       " ('examples to a cluster. This can be a mesos:// or spark:// URL,', 1),\n",
       " ('\"yarn\" to run on YARN, and \"local\" to run', 1),\n",
       " ('locally with one thread, or \"local[N]\" to run locally with N threads. You',\n",
       "  1),\n",
       " ('can also use an abbreviated class name if the class is in the `examples`',\n",
       "  1),\n",
       " ('package. For instance:', 1),\n",
       " ('MASTER=spark://host:7077 ./bin/run-example SparkPi', 1),\n",
       " ('Many of the example programs print usage help if no params are given.', 1),\n",
       " ('## Running Tests', 1),\n",
       " ('Testing first requires [building Spark](#building-spark). Once Spark is built, tests',\n",
       "  1),\n",
       " ('can be run using:', 1),\n",
       " ('./dev/run-tests', 1),\n",
       " ('Please see the guidance on how to', 1),\n",
       " ('[run tests for a module, or individual tests](https://spark.apache.org/developer-tools.html#individual-tests).',\n",
       "  1),\n",
       " ('There is also a Kubernetes integration test, see resource-managers/kubernetes/integration-tests/README.md',\n",
       "  1),\n",
       " ('## A Note About Hadoop Versions', 1),\n",
       " ('Spark uses the Hadoop core library to talk to HDFS and other Hadoop-supported',\n",
       "  1),\n",
       " ('storage systems. Because the protocols have changed in different versions of',\n",
       "  1),\n",
       " ('Hadoop, you must build Spark against the same version that your cluster runs.',\n",
       "  1),\n",
       " ('Please refer to the build documentation at', 1),\n",
       " ('[\"Specifying the Hadoop Version and Enabling YARN\"](https://spark.apache.org/docs/latest/building-spark.html#specifying-the-hadoop-version-and-enabling-yarn)',\n",
       "  1),\n",
       " ('for detailed guidance on building for a particular distribution of Hadoop, including',\n",
       "  1),\n",
       " ('building for particular Hive and Hive Thriftserver distributions.', 1),\n",
       " ('## Configuration', 1),\n",
       " ('Please refer to the [Configuration Guide](https://spark.apache.org/docs/latest/configuration.html)',\n",
       "  1),\n",
       " ('in the online documentation for an overview on how to configure Spark.', 1),\n",
       " ('## Contributing', 1),\n",
       " ('Please review the [Contribution to Spark guide](https://spark.apache.org/contributing.html)',\n",
       "  1),\n",
       " ('for information on how to get started contributing to the project.', 1)]"
      ]
     },
     "execution_count": 62,
     "metadata": {},
     "output_type": "execute_result"
    }
   ],
   "source": [
    "cc.sortBy(lambda s:s[-1], ascending=False).collect()"
   ]
  },
  {
   "cell_type": "code",
   "execution_count": null,
   "metadata": {},
   "outputs": [],
   "source": []
  }
 ],
 "metadata": {
  "kernelspec": {
   "display_name": "Python 3",
   "language": "python",
   "name": "python3"
  },
  "language_info": {
   "codemirror_mode": {
    "name": "ipython",
    "version": 3
   },
   "file_extension": ".py",
   "mimetype": "text/x-python",
   "name": "python",
   "nbconvert_exporter": "python",
   "pygments_lexer": "ipython3",
   "version": "3.11.9"
  }
 },
 "nbformat": 4,
 "nbformat_minor": 2
}
